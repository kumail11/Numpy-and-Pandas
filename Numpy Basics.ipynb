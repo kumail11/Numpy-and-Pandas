{
 "cells": [
  {
   "cell_type": "code",
   "execution_count": 1,
   "metadata": {},
   "outputs": [
    {
     "name": "stdout",
     "output_type": "stream",
     "text": [
      "1.16.2\n"
     ]
    }
   ],
   "source": [
    "import numpy as np\n",
    "\n",
    "print(np.__version__)\n"
   ]
  },
  {
   "cell_type": "code",
   "execution_count": 4,
   "metadata": {},
   "outputs": [
    {
     "name": "stdout",
     "output_type": "stream",
     "text": [
      "BMI using Numpy: [2.71616116 2.03402367 2.21123829]\n"
     ]
    }
   ],
   "source": [
    "weightList = [60, 55, 85]\n",
    "heightList = [4.7, 5.2, 6.2]\n",
    "\n",
    "weight = np.array(weightList)\n",
    "height = np.array(heightList)\n",
    "\n",
    "BMI = np.array(weight / height ** 2)\n",
    "print(\"BMI using Numpy:\", BMI)\n"
   ]
  },
  {
   "cell_type": "code",
   "execution_count": 42,
   "metadata": {},
   "outputs": [
    {
     "name": "stdout",
     "output_type": "stream",
     "text": [
      "Enter Length:3\n",
      "Enter Number:30\n",
      "Enter Number:20\n",
      "Enter Number:40\n",
      "Enter Number:70\n",
      "Enter Number:60\n",
      "Enter Number:80\n",
      "[30, 40, 60]\n",
      "[20, 70, 80]\n",
      "Addition using Numpy: [ 50 110 140]\n",
      "Difference using Numpy: [ 10 -30 -20]\n",
      "Product using Numpy: [ 600 2800 4800]\n",
      "Division using Numpy: [1.5        0.57142857 0.75      ]\n",
      "Square Root Array 1: [5.47722558 6.32455532 7.74596669]\n",
      "Square Root Array 2: [4.47213595 8.36660027 8.94427191]\n",
      "Sin Array 1: [-0.98803162  0.74511316 -0.30481062]\n",
      "Sin Array 2: [ 0.91294525  0.77389068 -0.99388865]\n",
      "Cos Array 1: [ 0.15425145 -0.66693806 -0.95241298]\n",
      "Cos Array 2: [ 0.40808206  0.6333192  -0.11038724]\n",
      "Log Array 1: [3.40119738 3.68887945 4.09434456]\n",
      "Log Array 2: [2.99573227 4.24849524 4.38202663]\n",
      "Check equal or not: False\n",
      "Mean Array 1: 43.333333333333336\n",
      "Mean Array 2: 56.666666666666664\n",
      "Median Array 1: 40.0\n",
      "Median Array 2: 70.0\n"
     ]
    }
   ],
   "source": [
    "length = int(input(\"Enter Length:\"))\n",
    "array1 = []\n",
    "array2 = []\n",
    "\n",
    "for i in range(length):\n",
    "    user_inp1 = int(input(\"Enter Number:\"))\n",
    "    user_inp2 = int(input(\"Enter Number:\"))\n",
    "    \n",
    "    array1.append(user_inp1)\n",
    "    array2.append(user_inp2)\n",
    "\n",
    "\n",
    "print(array1)\n",
    "print(array2)\n",
    "\n",
    "addition = np.add(array1, array2)\n",
    "print(\"Addition using Numpy:\", addition)\n",
    "\n",
    "diff = np.subtract(array1, array2)\n",
    "print(\"Difference using Numpy:\", diff)\n",
    "\n",
    "product = np.multiply(array1, array2)\n",
    "print(\"Product using Numpy:\", product)\n",
    "\n",
    "division = np.divide(array1, array2)\n",
    "print(\"Division using Numpy:\", division)\n",
    "\n",
    "sqrtArray1 = np.sqrt(array1)\n",
    "print(\"Square Root Array 1:\", sqrtArray1)\n",
    "\n",
    "sqrtArray2 = np.sqrt(array2)\n",
    "print(\"Square Root Array 2:\", sqrtArray2)\n",
    "\n",
    "sinArray1 = np.sin(array1)\n",
    "print(\"Sin Array 1:\", sinArray1)\n",
    "\n",
    "sinArray2 = np.sin(array2)\n",
    "print(\"Sin Array 2:\", sinArray2)\n",
    "\n",
    "cosArray1 = np.cos(array1)\n",
    "print(\"Cos Array 1:\", cosArray1)\n",
    "\n",
    "cosArray2 = np.cos(array2)\n",
    "print(\"Cos Array 2:\", cosArray2)\n",
    "\n",
    "logArray1 = np.log(array1)\n",
    "print(\"Log Array 1:\", logArray1)\n",
    "\n",
    "logArray2 = np.log(array2)\n",
    "print(\"Log Array 2:\", logArray2)\n",
    "\n",
    "chk_equal = np.array_equal(array1, array2)\n",
    "print(\"Check equal or not:\", chk_equal)\n",
    "\n",
    "meanArray1 = np.mean(array1)\n",
    "print(\"Mean Array 1:\", meanArray1)\n",
    "\n",
    "meanArray2 = np.mean(array2)\n",
    "print(\"Mean Array 2:\", meanArray2)\n",
    "\n",
    "medianArray1 = np.median(array1)\n",
    "print(\"Median Array 1:\", medianArray1)\n",
    "\n",
    "medianArray2 = np.median(array2)\n",
    "print(\"Median Array 2:\", medianArray2)"
   ]
  },
  {
   "cell_type": "code",
   "execution_count": 60,
   "metadata": {},
   "outputs": [
    {
     "name": "stdout",
     "output_type": "stream",
     "text": [
      "Line Space: [0.    0.625 1.25  1.875 2.5   3.125 3.75  4.375 5.   ]\n",
      "Ones: [[1. 1. 1. 1. 1.]]\n",
      "For loop usign numpy (arange method): [1 2 3 4 5 6 7 8 9]\n",
      "Zeros: [[0. 0. 0. 0. 0.]]\n",
      "Random Number: [[0.26204765 0.37219559 0.56861053]\n",
      " [0.96778181 0.221408   0.39431489]\n",
      " [0.71809664 0.15845747 0.4973446 ]]\n",
      "Copy of array1: [30 40 60]\n",
      "Copy of array2: [20 70 80]\n",
      "Deep Copy Array 1: [30, 40, 60]\n",
      "Deep Copy Array 2: [20, 70, 80]\n",
      "Split Array 1: [array([30]), array([40]), array([60])]\n"
     ]
    }
   ],
   "source": [
    "print(\"Line Space:\", np.linspace(0, 5, 9))\n",
    "print(\"Ones:\", np.ones((1, 5)))\n",
    "print(\"For loop usign numpy (arange method):\", np.arange(1, 10, 1))\n",
    "print(\"Zeros:\", np.zeros((1, 5)))\n",
    "print(\"Random Number:\", np.random.random((3, 3)))\n",
    "print(\"Copy of array1:\", np.copy(array1))\n",
    "print(\"Copy of array2:\", np.copy(array2))\n",
    "\n",
    "deepCopyArray1 = array1.copy()\n",
    "print(\"Deep Copy Array 1:\", deepCopyArray1)\n",
    "\n",
    "deepCopyArray2 = array2.copy()\n",
    "print(\"Deep Copy Array 2:\", deepCopyArray2)\n",
    "\n",
    "print(\"Split Array 1:\", np.array_split(array1, 3))"
   ]
  },
  {
   "cell_type": "code",
   "execution_count": 64,
   "metadata": {},
   "outputs": [
    {
     "name": "stdout",
     "output_type": "stream",
     "text": [
      "Enter Student Name: Kumail\n",
      "Enter GPA: 3.4\n",
      "Enter Student Name: Ali\n",
      "Enter GPA: 3.5\n",
      "[['Kumail' 'Ali']\n",
      " ['3.4' '3.5']]\n"
     ]
    },
    {
     "ename": "TypeError",
     "evalue": "an integer is required (got type list)",
     "output_type": "error",
     "traceback": [
      "\u001b[1;31m---------------------------------------------------------------------------\u001b[0m",
      "\u001b[1;31mTypeError\u001b[0m                                 Traceback (most recent call last)",
      "\u001b[1;32m<ipython-input-64-e46ae98198f7>\u001b[0m in \u001b[0;36m<module>\u001b[1;34m\u001b[0m\n\u001b[0;32m     16\u001b[0m \u001b[0mprint\u001b[0m\u001b[1;33m(\u001b[0m\u001b[0mstudentDetails\u001b[0m\u001b[1;33m)\u001b[0m\u001b[1;33m\u001b[0m\u001b[1;33m\u001b[0m\u001b[0m\n\u001b[0;32m     17\u001b[0m \u001b[1;33m\u001b[0m\u001b[0m\n\u001b[1;32m---> 18\u001b[1;33m \u001b[0mstudentDetails\u001b[0m\u001b[1;33m.\u001b[0m\u001b[0msort\u001b[0m\u001b[1;33m(\u001b[0m\u001b[0mstudentGPA\u001b[0m\u001b[1;33m)\u001b[0m\u001b[1;33m\u001b[0m\u001b[1;33m\u001b[0m\u001b[0m\n\u001b[0m\u001b[0;32m     19\u001b[0m \u001b[0mprint\u001b[0m\u001b[1;33m(\u001b[0m\u001b[0mstudentDetails\u001b[0m\u001b[1;33m)\u001b[0m\u001b[1;33m\u001b[0m\u001b[1;33m\u001b[0m\u001b[0m\n\u001b[0;32m     20\u001b[0m \u001b[1;33m\u001b[0m\u001b[0m\n",
      "\u001b[1;31mTypeError\u001b[0m: an integer is required (got type list)"
     ]
    }
   ],
   "source": [
    "studentNames = []\n",
    "studentGPA = []\n",
    "\n",
    "for i in range(2):\n",
    "    student = input(\"Enter Student Name: \")\n",
    "    GPA = float(input(\"Enter GPA: \"))\n",
    "    \n",
    "    studentNames.append(student)\n",
    "    studentGPA.append(GPA)\n",
    "    \n",
    "# print(studentNames)\n",
    "# print(studentGPA)\n",
    "\n",
    "\n",
    "studentDetails = np.array([studentNames, studentGPA])\n",
    "print(studentDetails)\n",
    "\n",
    "# studentDetails.sort(studentGPA)\n",
    "print(studentDetails)\n",
    "\n",
    "\n"
   ]
  },
  {
   "cell_type": "code",
   "execution_count": 89,
   "metadata": {},
   "outputs": [
    {
     "data": {
      "text/plain": [
       "[('sultan', 3.12),\n",
       " ('rehan', 3.13),\n",
       " ('shayan', 3.21),\n",
       " ('mubashir', 3.45),\n",
       " ('kumail', 3.47),\n",
       " ('aurangzeb', 3.47),\n",
       " ('nomesh', 3.58),\n",
       " ('bilal', 3.63),\n",
       " ('ejaz', 3.98),\n",
       " ('taha', 3.99)]"
      ]
     },
     "execution_count": 89,
     "metadata": {},
     "output_type": "execute_result"
    }
   ],
   "source": [
    "import operator\n",
    "studentDetails = {\"sultan\":3.12, \"shayan\":3.21, \"rehan\":3.13, \"kumail\":3.47, \"nomesh\":3.58, \"mubashir\":3.45, \"bilal\":3.63, \"ejaz\":3.98, \"taha\":3.99, \"aurangzeb\":3.47}\n",
    "sorted(studentDetails.items(), key=operator.itemgetter(1))"
   ]
  },
  {
   "cell_type": "code",
   "execution_count": 97,
   "metadata": {},
   "outputs": [],
   "source": [
    "def topFive(dic, arr=[]):\n",
    "    if len(arr) == 5:\n",
    "        return arr\n",
    "    else:\n",
    "        max = [\"\",0]\n",
    "    for key, value in dic.items():\n",
    "        if value > max[1] and not [key, value] in arr:\n",
    "            max = [key, value]\n",
    "    arr.append(max)\n",
    "    return topFive(dic, arr)"
   ]
  },
  {
   "cell_type": "code",
   "execution_count": 98,
   "metadata": {},
   "outputs": [
    {
     "data": {
      "text/plain": [
       "[['taha', 3.99],\n",
       " ['ejaz', 3.98],\n",
       " ['bilal', 3.63],\n",
       " ['nomesh', 3.58],\n",
       " ['kumail', 3.47]]"
      ]
     },
     "execution_count": 98,
     "metadata": {},
     "output_type": "execute_result"
    }
   ],
   "source": [
    "topFive(studentDetails)"
   ]
  }
 ],
 "metadata": {
  "kernelspec": {
   "display_name": "Python 3",
   "language": "python",
   "name": "python3"
  },
  "language_info": {
   "codemirror_mode": {
    "name": "ipython",
    "version": 3
   },
   "file_extension": ".py",
   "mimetype": "text/x-python",
   "name": "python",
   "nbconvert_exporter": "python",
   "pygments_lexer": "ipython3",
   "version": "3.7.0"
  }
 },
 "nbformat": 4,
 "nbformat_minor": 2
}
